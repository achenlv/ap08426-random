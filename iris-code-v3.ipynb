{
 "cells": [
  {
   "cell_type": "markdown",
   "id": "45507a46",
   "metadata": {
    "papermill": {
     "duration": 0.005021,
     "end_time": "2025-03-04T21:48:05.838517",
     "exception": false,
     "start_time": "2025-03-04T21:48:05.833496",
     "status": "completed"
    },
    "tags": []
   },
   "source": [
    "## Autors Agris Pudāns, ap08426"
   ]
  },
  {
   "cell_type": "markdown",
   "id": "07184d40",
   "metadata": {
    "papermill": {
     "duration": 0.003736,
     "end_time": "2025-03-04T21:48:05.846729",
     "exception": false,
     "start_time": "2025-03-04T21:48:05.842993",
     "status": "completed"
    },
    "tags": []
   },
   "source": [
    "### Pamats Jupyter Notebook veidošanai.\n",
    "\n",
    "1) Koda izpildi kontrolē viens mainīgais - slēdzis  \n",
    "2) Atkarībā no slēdža stāvokļa, tiek izpildīts tikai modeļa apmācībai vai tikai modeļa pārbaudei nepieciešamais kods  \n",
    "3) Tiek ielādēti tikai tie moduļi un dati, kas nepieciešami konkrētās darbības izpildei  \n",
    "4) Ja, pārbaudot kodu, nepieciešams darīt vairāk nekā nomainīt slēdzi un norādīt testa datu kopas ielādes URL, darbs nav korekti pabeigts, notestēts, utt  \n",
    "5) Pabeigta darba kodam jāstrādā bez aizķeršanās, palaižot to ar Run All  \n",
    "6) Pēc iespējas visu darbu darīt ar klasēm un funkcijām"
   ]
  },
  {
   "cell_type": "markdown",
   "id": "8fe24ddc",
   "metadata": {
    "papermill": {
     "duration": 0.003663,
     "end_time": "2025-03-04T21:48:05.854419",
     "exception": false,
     "start_time": "2025-03-04T21:48:05.850756",
     "status": "completed"
    },
    "tags": []
   },
   "source": [
    "### Kontroles bloks\n",
    "Definē slēdzi un satur saites uz datiem un trenēto modeli"
   ]
  },
  {
   "cell_type": "code",
   "execution_count": 1,
   "id": "e957b339",
   "metadata": {
    "execution": {
     "iopub.execute_input": "2025-03-04T21:48:05.863809Z",
     "iopub.status.busy": "2025-03-04T21:48:05.863428Z",
     "iopub.status.idle": "2025-03-04T21:48:05.869695Z",
     "shell.execute_reply": "2025-03-04T21:48:05.868595Z"
    },
    "papermill": {
     "duration": 0.013263,
     "end_time": "2025-03-04T21:48:05.871634",
     "exception": false,
     "start_time": "2025-03-04T21:48:05.858371",
     "status": "completed"
    },
    "tags": []
   },
   "outputs": [],
   "source": [
    "# True - ielādē treniņa datu kopu un uz tās apmāca jaunu modeli, kuru saglabā\n",
    "# False - ielādē jau apmācītu modeli un atsevišķu datu kopu, uz kuras modeli pārbaudīt\n",
    "TRAIN = False\n",
    "\n",
    "# Norādam apmācīta modeļa ielādes URL. Nomainīt.\n",
    "MODEL_URL = 'https://raw.githubusercontent.com/achenlv/ap08426-random/refs/heads/main/iris_model.pth'\n",
    "# Norādam treniņa datu kopas ielādes URL. Nomainīt.\n",
    "TRAIN_DATA_URL = 'https://raw.githubusercontent.com/achenlv/ap08426-random/refs/heads/main/Iris_train.csv'\n",
    "# Norādam testa datu kopas ielādes URL. Testējot kodu, pagaidām ir validācijas datu kopa, taču pārbaudot darbu pasniedzējs nomainīs uz nodalītu vērtēšanas kopu\n",
    "TEST_DATA_URL = 'https://raw.githubusercontent.com/achenlv/ap08426-random/refs/heads/main/Iris_validate.csv'"
   ]
  },
  {
   "cell_type": "markdown",
   "id": "05344104",
   "metadata": {
    "papermill": {
     "duration": 0.004106,
     "end_time": "2025-03-04T21:48:05.880098",
     "exception": false,
     "start_time": "2025-03-04T21:48:05.875992",
     "status": "completed"
    },
    "tags": []
   },
   "source": [
    "### Moduļu importēšana\n",
    "Importē nepieciešamos moduļus."
   ]
  },
  {
   "cell_type": "code",
   "execution_count": 2,
   "id": "b7d685ee",
   "metadata": {
    "execution": {
     "iopub.execute_input": "2025-03-04T21:48:05.890032Z",
     "iopub.status.busy": "2025-03-04T21:48:05.889667Z",
     "iopub.status.idle": "2025-03-04T21:48:11.080760Z",
     "shell.execute_reply": "2025-03-04T21:48:11.079435Z"
    },
    "papermill": {
     "duration": 5.19838,
     "end_time": "2025-03-04T21:48:11.082780",
     "exception": false,
     "start_time": "2025-03-04T21:48:05.884400",
     "status": "completed"
    },
    "tags": []
   },
   "outputs": [],
   "source": [
    "# os modulis nepieciešams darbam ar failiem\n",
    "import os\n",
    "# torch modulis nodrošina MI apmācībai un lietošanai nepieciešamās funkcijas\n",
    "import torch\n",
    "from torch import nn\n",
    "from torch.utils.data import Dataset, DataLoader\n",
    "# numpy modulis nodrošina dažādas matemātiskās funkcijas\n",
    "import numpy as np\n",
    "# Pandas modulis tabulveida datu apstrādei\n",
    "import pandas as pd\n",
    "# requests modulis tīkla pieprasījumiem\n",
    "import requests\n",
    "from io import BytesIO\n",
    "import warnings\n",
    "warnings.filterwarnings('ignore')\n"
   ]
  },
  {
   "cell_type": "markdown",
   "id": "09f47594",
   "metadata": {
    "papermill": {
     "duration": 0.004162,
     "end_time": "2025-03-04T21:48:11.091465",
     "exception": false,
     "start_time": "2025-03-04T21:48:11.087303",
     "status": "completed"
    },
    "tags": []
   },
   "source": [
    "### Klašu un funkciju definēšana\n",
    "Ieteicams visu definēt koda sākumā.  \n",
    "Komentējiet pašas funkcijas mērķi un galvenās darbības tās iekšienē.  \n",
    "Ja nepieciešams, definējiet papildus klases un funkcijas."
   ]
  },
  {
   "cell_type": "code",
   "execution_count": 3,
   "id": "cee37f38",
   "metadata": {
    "execution": {
     "iopub.execute_input": "2025-03-04T21:48:11.102197Z",
     "iopub.status.busy": "2025-03-04T21:48:11.101571Z",
     "iopub.status.idle": "2025-03-04T21:48:11.127704Z",
     "shell.execute_reply": "2025-03-04T21:48:11.126638Z"
    },
    "papermill": {
     "duration": 0.033863,
     "end_time": "2025-03-04T21:48:11.129519",
     "exception": false,
     "start_time": "2025-03-04T21:48:11.095656",
     "status": "completed"
    },
    "tags": []
   },
   "outputs": [],
   "source": [
    "# Definē klasi IrisDataset, kas saturēs datus neironu tīklam saprotamā formātā\n",
    "class IrisDataset(Dataset):\n",
    "    def __init__(self, features, labels):\n",
    "        \"\"\"\n",
    "        Inicializē datu kopu ar pazīmēm un etiķetēm\n",
    "        \n",
    "        Parametri:\n",
    "        features (torch.Tensor): Pazīmju masīvs\n",
    "        labels (torch.Tensor): Etiķešu masīvs\n",
    "        \"\"\"\n",
    "        self.features = features\n",
    "        self.labels = labels\n",
    "    \n",
    "    def __len__(self):\n",
    "        \"\"\"\n",
    "        Atgriež datu kopas garumu\n",
    "        \"\"\"\n",
    "        return len(self.features)\n",
    "    \n",
    "    def __getitem__(self, idx):\n",
    "        \"\"\"\n",
    "        Atgriež datu punktu ar indeksu idx\n",
    "        \n",
    "        Parametri:\n",
    "        idx (int): Datu punkta indekss\n",
    "        \n",
    "        Atgriež:\n",
    "        tuple: (pazīmes, etiķete)\n",
    "        \"\"\"\n",
    "        return self.features[idx], self.labels[idx]\n",
    "\n",
    "# Definē klasi Model - pašu neironu tīklu\n",
    "class IrisModel(nn.Module):\n",
    "    def __init__(self, input_size, hidden_size, output_size):\n",
    "        \"\"\"\n",
    "        Inicializē neironu tīkla modeli\n",
    "        \n",
    "        Parametri:\n",
    "        input_size (int): Ieejas slāņa izmērs (pazīmju skaits)\n",
    "        hidden_size (int): Slēptā slāņa izmērs\n",
    "        output_size (int): Izejas slāņa izmērs (klašu skaits)\n",
    "        \"\"\"\n",
    "        super(IrisModel, self).__init__()\n",
    "        self.layer1 = nn.Linear(input_size, hidden_size)\n",
    "        self.relu = nn.ReLU()\n",
    "        self.layer2 = nn.Linear(hidden_size, output_size)\n",
    "    \n",
    "    def forward(self, x):\n",
    "        \"\"\"\n",
    "        Veic tiešo skrējienu caur neironu tīklu\n",
    "        \n",
    "        Parametri:\n",
    "        x (torch.Tensor): Ieejas dati\n",
    "        \n",
    "        Atgriež:\n",
    "        torch.Tensor: Izejas vērtības\n",
    "        \"\"\"\n",
    "        x = self.layer1(x)\n",
    "        x = self.relu(x)\n",
    "        x = self.layer2(x)\n",
    "        return x\n",
    "\n",
    "# Globālie mainīgie\n",
    "model = None\n",
    "device = torch.device(\"cuda\" if torch.cuda.is_available() else \"cpu\")\n",
    "class_names = ['Iris-setosa', 'Iris-versicolor', 'Iris-virginica']\n",
    "label_to_idx = {'Iris-setosa': 0, 'Iris-versicolor': 1, 'Iris-virginica': 2}\n",
    "\n",
    "# Datu sagatavošanas funkcija\n",
    "def prepare_data(data_frame):\n",
    "    \"\"\"\n",
    "    Sagatavo datus neironu tīkla apmācībai\n",
    "    \n",
    "    Parametri:\n",
    "    data_frame (pandas.DataFrame): Pandas DataFrame ar datiem\n",
    "    \n",
    "    Atgriež:\n",
    "    tuple: (IrisDataset, features, labels)\n",
    "    \"\"\"\n",
    "    # Atdalam pazīmes un etiķetes\n",
    "    features = data_frame.iloc[:, :-1].values\n",
    "    species = data_frame.iloc[:, -1].values\n",
    "    \n",
    "    # Pārveidojam sugas nosaukumus par skaitliskiem indeksiem\n",
    "    labels = np.array([label_to_idx[species_name] for species_name in species])\n",
    "    \n",
    "    # Pārveidojam masīvus par torch.Tensor\n",
    "    features_tensor = torch.FloatTensor(features)\n",
    "    labels_tensor = torch.LongTensor(labels)\n",
    "    \n",
    "    # Izveidojam DataSet objektu\n",
    "    dataset = IrisDataset(features_tensor, labels_tensor)\n",
    "    \n",
    "    return dataset, features_tensor, labels_tensor\n",
    "\n",
    "# Definē funkciju train, kuru izsaucot, modelis tiek trenēts ar treniņdatu kopu\n",
    "def train():\n",
    "    \"\"\"\n",
    "    Apmāca neironu tīkla modeli ar treniņa datiem\n",
    "    \"\"\"\n",
    "    print(\"Training model...\")\n",
    "    global model\n",
    "    \n",
    "    # Ielādējam datus\n",
    "    data_frame = pd.read_csv(TRAIN_DATA_URL)\n",
    "    dataset, features, labels = prepare_data(data_frame)\n",
    "    \n",
    "    # Inicializējam modeli\n",
    "    input_size = features.shape[1]  # pazīmju skaits\n",
    "    hidden_size = 10  # slēptā slāņa izmērs\n",
    "    output_size = len(class_names)  # klašu skaits\n",
    "    \n",
    "    model = IrisModel(input_size, hidden_size, output_size).to(device)\n",
    "    \n",
    "    # Definējam apmācības parametrus\n",
    "    criterion = nn.CrossEntropyLoss()\n",
    "    optimizer = torch.optim.Adam(model.parameters(), lr=0.001)\n",
    "    batch_size = 8\n",
    "    num_epochs = 100\n",
    "    \n",
    "    # Izveidojam DataLoader\n",
    "    dataloader = DataLoader(dataset=dataset, batch_size=batch_size, shuffle=True)\n",
    "    \n",
    "    # Apmācības cikls\n",
    "    for epoch in range(num_epochs):\n",
    "        for i, (features, labels) in enumerate(dataloader):\n",
    "            features = features.to(device)\n",
    "            labels = labels.to(device)\n",
    "            \n",
    "            # Tiešais skrējiens\n",
    "            outputs = model(features)\n",
    "            loss = criterion(outputs, labels)\n",
    "            \n",
    "            # Atpakaļpropagācija un optimizācija\n",
    "            optimizer.zero_grad()\n",
    "            loss.backward()\n",
    "            optimizer.step()\n",
    "        \n",
    "        # Izdrukājam zaudējumu katrus 10 soļus\n",
    "        if (epoch + 1) % 10 == 0:\n",
    "            print(f'Epoch [{epoch+1}/{num_epochs}], Loss: {loss.item():.4f}')\n",
    "    \n",
    "    print(\"Training completed!\")\n",
    "\n",
    "# Definē funkciju test, kuru izsaucot, modelis tiek pārbaudīts ar validācijas vai testa datu kopu\n",
    "def test():\n",
    "    \"\"\"\n",
    "    Pārbauda neironu tīkla modeli ar testa datiem\n",
    "    \"\"\"\n",
    "    print(\"Testing model...\")\n",
    "    global model\n",
    "    \n",
    "    # Pārbaudam, vai modelis ir inicializēts\n",
    "    if model is None:\n",
    "        print(\"Error: Model not initialized!\")\n",
    "        return\n",
    "    \n",
    "    # Ielādējam testa datus\n",
    "    data_url = TEST_DATA_URL\n",
    "    \n",
    "    data_frame = pd.read_csv(data_url)\n",
    "    dataset, features, labels = prepare_data(data_frame)\n",
    "    \n",
    "    # Pārslēdzam modeli uz vērtēšanas režīmu\n",
    "    model.eval()\n",
    "    \n",
    "    # Veicam prognozēšanu\n",
    "    with torch.no_grad():\n",
    "        outputs = model(features.to(device))\n",
    "        _, predicted = torch.max(outputs.data, 1)\n",
    "        \n",
    "        correct = 0\n",
    "        total = labels.size(0)\n",
    "        \n",
    "        # Izdrukājam rezultātus katram datu punktam\n",
    "        for i in range(total):\n",
    "            predicted_class = class_names[predicted[i].item()]\n",
    "            actual_class = class_names[labels[i].item()]\n",
    "            is_correct = predicted[i] == labels[i]\n",
    "            \n",
    "            if is_correct:\n",
    "                correct += 1\n",
    "            \n",
    "            print(f\"{i+1}. datu rindiņā klasifikatora rezultāts: {predicted_class}; reālā suga: {actual_class}, {'pareizi' if is_correct else 'nepareizi'}\")\n",
    "        \n",
    "        # Izdrukājam kopējo precizitāti\n",
    "        accuracy = 100 * correct / total\n",
    "        print(f\"Precizitāte: {accuracy:.0f}% ({correct}/{total})\")\n",
    "\n",
    "# Definē funkciju saveWeights, kuru izsaucot, tiek saglabāti modeļa svari\n",
    "def saveWeights():\n",
    "    \"\"\"\n",
    "    Saglabā neironu tīkla modeļa svarus\n",
    "    \"\"\"\n",
    "    print(\"Saving weights...\")\n",
    "    global model\n",
    "    \n",
    "    # Pārbaudam, vai modelis ir inicializēts\n",
    "    if model is None:\n",
    "        print(\"Error: Model not initialized!\")\n",
    "        return\n",
    "    \n",
    "    # Saglabājam modeli\n",
    "    torch.save(model.state_dict(), \"iris_model.pth\")\n",
    "    print(\"Model weights saved to iris_model.pth\")\n",
    "    print(\"Upload the model to GitHub or another cloud service and update MODEL_URL\")\n",
    "\n",
    "# Definē funkciju loadWeights, kuru izsaucot, no URL MODEL_URL tiek ielādēti modeļa svari un piešķirti mūsu modelim\n",
    "def loadWeights():\n",
    "    \"\"\"\n",
    "    Ielādē neironu tīkla modeļa svarus no URL\n",
    "    \"\"\"\n",
    "    print(f\"Loading weights from {MODEL_URL}...\")\n",
    "    global model\n",
    "    \n",
    "    # Transformējam GitHub URL, lai iegūtu raw formātu\n",
    "    raw_url = MODEL_URL.replace('github.com', 'raw.githubusercontent.com')\n",
    "    raw_url = raw_url.replace('/blob/', '/')\n",
    "    \n",
    "    # Inicializējam modeli, ja tas vēl nav inicializēts\n",
    "    if model is None:\n",
    "        # Iegūstam pazīmju skaitu no testa datiem\n",
    "        test_url = TEST_DATA_URL.replace('github.com', 'raw.githubusercontent.com')\n",
    "        test_url = test_url.replace('/blob/', '/')\n",
    "        data_frame = pd.read_csv(test_url)\n",
    "        input_size = data_frame.iloc[:, :-1].shape[1]\n",
    "        \n",
    "        # Inicializējam modeli\n",
    "        hidden_size = 10\n",
    "        output_size = len(class_names)\n",
    "        model = IrisModel(input_size, hidden_size, output_size).to(device)\n",
    "    \n",
    "    try:\n",
    "        # Lejupielādējam modeļa svarus\n",
    "        response = requests.get(raw_url)\n",
    "        if response.status_code == 200:\n",
    "            # Saglabājam svarus pagaidu failā\n",
    "            with open(\"temp_model.pth\", \"wb\") as f:\n",
    "                f.write(response.content)\n",
    "            \n",
    "            # Ielādējam svarus modelī\n",
    "            model.load_state_dict(torch.load(\"temp_model.pth\", map_location=device))\n",
    "            \n",
    "            # Dzēšam pagaidu failu\n",
    "            if os.path.exists(\"temp_model.pth\"):\n",
    "                os.remove(\"temp_model.pth\")\n",
    "            \n",
    "            print(\"Model weights loaded successfully\")\n",
    "        else:\n",
    "            print(f\"Error downloading model weights: HTTP {response.status_code}\")\n",
    "    except Exception as e:\n",
    "        print(f\"Error loading model weights: {str(e)}\")"
   ]
  },
  {
   "cell_type": "markdown",
   "id": "e2c7d80a",
   "metadata": {
    "papermill": {
     "duration": 0.003871,
     "end_time": "2025-03-04T21:48:11.137715",
     "exception": false,
     "start_time": "2025-03-04T21:48:11.133844",
     "status": "completed"
    },
    "tags": []
   },
   "source": [
    "### Datu ielādes bloks\n",
    "Šajā koda blokā ielādē nepieciešamo datu kopa un sagatavo darbam ar modeli"
   ]
  },
  {
   "cell_type": "code",
   "execution_count": 4,
   "id": "d354419c",
   "metadata": {
    "execution": {
     "iopub.execute_input": "2025-03-04T21:48:11.147505Z",
     "iopub.status.busy": "2025-03-04T21:48:11.147079Z",
     "iopub.status.idle": "2025-03-04T21:48:11.226019Z",
     "shell.execute_reply": "2025-03-04T21:48:11.224575Z"
    },
    "papermill": {
     "duration": 0.08599,
     "end_time": "2025-03-04T21:48:11.227824",
     "exception": false,
     "start_time": "2025-03-04T21:48:11.141834",
     "status": "completed"
    },
    "tags": []
   },
   "outputs": [
    {
     "name": "stdout",
     "output_type": "stream",
     "text": [
      "Ielādē testa datu kopu\n",
      "   SepalLengthCm  SepalWidthCm  PetalLengthCm  PetalWidthCm          Species\n",
      "0            4.4           3.2            1.3           0.2      Iris-setosa\n",
      "1            5.0           3.5            1.6           0.6      Iris-setosa\n",
      "2            5.1           3.8            1.9           0.4      Iris-setosa\n",
      "3            4.8           3.0            1.4           0.3      Iris-setosa\n",
      "4            5.8           2.6            4.0           1.2  Iris-versicolor\n"
     ]
    }
   ],
   "source": [
    "# Pārveidojam GitHub URL uz raw formātu, lai varētu tieši ielādēt datus\n",
    "if TRAIN == True:\n",
    "    print(\"Ielādē treniņa datu kopu\")\n",
    "    # Pārveidojam GitHub URL, lai iegūtu raw formātu\n",
    "    raw_url = TRAIN_DATA_URL.replace('github.com', 'raw.githubusercontent.com')\n",
    "    raw_url = raw_url.replace('/blob/', '/')\n",
    "    tabula = pd.read_csv(raw_url)\n",
    "else:\n",
    "    print(\"Ielādē testa datu kopu\")\n",
    "    # Pārveidojam GitHub URL, lai iegūtu raw formātu\n",
    "    raw_url = TEST_DATA_URL.replace('github.com', 'raw.githubusercontent.com')\n",
    "    raw_url = raw_url.replace('/blob/', '/')\n",
    "    tabula = pd.read_csv(raw_url)\n",
    "\n",
    "print(tabula.head())"
   ]
  },
  {
   "cell_type": "markdown",
   "id": "9b66c663",
   "metadata": {
    "papermill": {
     "duration": 0.004036,
     "end_time": "2025-03-04T21:48:11.236386",
     "exception": false,
     "start_time": "2025-03-04T21:48:11.232350",
     "status": "completed"
    },
    "tags": []
   },
   "source": [
    "### Modeļa apmācīšanas bloks\n",
    "Šis bloks tiek palaists tikai tad, ja TRAIN == True.  \n",
    "Satur tikai funkciju train."
   ]
  },
  {
   "cell_type": "code",
   "execution_count": 5,
   "id": "932aaa31",
   "metadata": {
    "execution": {
     "iopub.execute_input": "2025-03-04T21:48:11.246105Z",
     "iopub.status.busy": "2025-03-04T21:48:11.245729Z",
     "iopub.status.idle": "2025-03-04T21:48:11.249701Z",
     "shell.execute_reply": "2025-03-04T21:48:11.248805Z"
    },
    "papermill": {
     "duration": 0.011066,
     "end_time": "2025-03-04T21:48:11.251639",
     "exception": false,
     "start_time": "2025-03-04T21:48:11.240573",
     "status": "completed"
    },
    "tags": []
   },
   "outputs": [],
   "source": [
    "if TRAIN == True:\n",
    "    train()"
   ]
  },
  {
   "cell_type": "markdown",
   "id": "39015e07",
   "metadata": {
    "papermill": {
     "duration": 0.003865,
     "end_time": "2025-03-04T21:48:11.260036",
     "exception": false,
     "start_time": "2025-03-04T21:48:11.256171",
     "status": "completed"
    },
    "tags": []
   },
   "source": [
    "### Modeļa saglabāšanas bloks\n",
    "Šis bloks tiek palaists tikai tad, ja TRAIN == True.  \n",
    "Satur tikai funkciju saveWeights."
   ]
  },
  {
   "cell_type": "code",
   "execution_count": 6,
   "id": "a5969fbd",
   "metadata": {
    "execution": {
     "iopub.execute_input": "2025-03-04T21:48:11.269377Z",
     "iopub.status.busy": "2025-03-04T21:48:11.268969Z",
     "iopub.status.idle": "2025-03-04T21:48:11.273357Z",
     "shell.execute_reply": "2025-03-04T21:48:11.272219Z"
    },
    "papermill": {
     "duration": 0.010996,
     "end_time": "2025-03-04T21:48:11.275035",
     "exception": false,
     "start_time": "2025-03-04T21:48:11.264039",
     "status": "completed"
    },
    "tags": []
   },
   "outputs": [],
   "source": [
    "if TRAIN == True:\n",
    "    saveWeights()"
   ]
  },
  {
   "cell_type": "markdown",
   "id": "fcbe0677",
   "metadata": {
    "papermill": {
     "duration": 0.003832,
     "end_time": "2025-03-04T21:48:11.283093",
     "exception": false,
     "start_time": "2025-03-04T21:48:11.279261",
     "status": "completed"
    },
    "tags": []
   },
   "source": [
    "### Modeļa ielādēšanas bloks\n",
    "Šis bloks tiek palaists tikai tad, ja TRAIN == False.  \n",
    "Satur tikai funkciju loadWeights."
   ]
  },
  {
   "cell_type": "code",
   "execution_count": 7,
   "id": "b30056fe",
   "metadata": {
    "execution": {
     "iopub.execute_input": "2025-03-04T21:48:11.292310Z",
     "iopub.status.busy": "2025-03-04T21:48:11.291862Z",
     "iopub.status.idle": "2025-03-04T21:48:11.433256Z",
     "shell.execute_reply": "2025-03-04T21:48:11.432041Z"
    },
    "papermill": {
     "duration": 0.147882,
     "end_time": "2025-03-04T21:48:11.434966",
     "exception": false,
     "start_time": "2025-03-04T21:48:11.287084",
     "status": "completed"
    },
    "tags": []
   },
   "outputs": [
    {
     "name": "stdout",
     "output_type": "stream",
     "text": [
      "Loading weights from https://raw.githubusercontent.com/achenlv/ap08426-random/refs/heads/main/iris_model.pth...\n",
      "Model weights loaded successfully\n"
     ]
    }
   ],
   "source": [
    "if TRAIN == False:\n",
    "    loadWeights()"
   ]
  },
  {
   "cell_type": "markdown",
   "id": "72c51e2b",
   "metadata": {
    "papermill": {
     "duration": 0.003899,
     "end_time": "2025-03-04T21:48:11.443274",
     "exception": false,
     "start_time": "2025-03-04T21:48:11.439375",
     "status": "completed"
    },
    "tags": []
   },
   "source": [
    "### Modeļa pārbaudes kods\n",
    "Šis bloks tiek palaists jebkurā gadījumā. Visiem iepriekšējiem blokiem jānostrādā pareizi atkarībā no TRAIN stāvokļa, lai šis kods paņemtu no jauna uztrenētu modeli un pārbaudīto to uz validācijas datu kopas, vai ielādētu saglabātu modeli un pārbaudītu to uz testa datu kopas.\n",
    "\n",
    "Testa palaišanai jāizdrukā:\n",
    "1. visu pārbaužu rezultāti viegli saprotamā formā (12 rindiņas, pa vienai katram validācijas kopas piemēram)\n",
    "2. kopējais precizitātes novērtējums.\n",
    "   \n",
    "Paraugs iespējamam adekvātam noformējumam:\n",
    "\n",
    "- 1\\. datu rindiņā klasifikatora rezultāts: Iris-setosa; reālā suga: Iris-setosa, pareizi\n",
    "- 2\\. datu rindiņā klasifikatora rezultāts: Iris-versicolor; reālā suga: Iris-setosa, nepareizi\n",
    "- ...\n",
    "- 12\\. datu rindiņā klasifikatora rezultāts: Iris-virginica; reālā suga: Iris-virginica, pareizi\n",
    "    Precizitāte: 58% (7/12)\n"
   ]
  },
  {
   "cell_type": "code",
   "execution_count": 8,
   "id": "18ee4da5",
   "metadata": {
    "execution": {
     "iopub.execute_input": "2025-03-04T21:48:11.454672Z",
     "iopub.status.busy": "2025-03-04T21:48:11.454328Z",
     "iopub.status.idle": "2025-03-04T21:48:11.570180Z",
     "shell.execute_reply": "2025-03-04T21:48:11.568672Z"
    },
    "papermill": {
     "duration": 0.124868,
     "end_time": "2025-03-04T21:48:11.572419",
     "exception": false,
     "start_time": "2025-03-04T21:48:11.447551",
     "status": "completed"
    },
    "tags": []
   },
   "outputs": [
    {
     "name": "stdout",
     "output_type": "stream",
     "text": [
      "Testing model...\n",
      "1. datu rindiņā klasifikatora rezultāts: Iris-setosa; reālā suga: Iris-setosa, pareizi\n",
      "2. datu rindiņā klasifikatora rezultāts: Iris-setosa; reālā suga: Iris-setosa, pareizi\n",
      "3. datu rindiņā klasifikatora rezultāts: Iris-setosa; reālā suga: Iris-setosa, pareizi\n",
      "4. datu rindiņā klasifikatora rezultāts: Iris-setosa; reālā suga: Iris-setosa, pareizi\n",
      "5. datu rindiņā klasifikatora rezultāts: Iris-versicolor; reālā suga: Iris-versicolor, pareizi\n",
      "6. datu rindiņā klasifikatora rezultāts: Iris-versicolor; reālā suga: Iris-versicolor, pareizi\n",
      "7. datu rindiņā klasifikatora rezultāts: Iris-versicolor; reālā suga: Iris-versicolor, pareizi\n",
      "8. datu rindiņā klasifikatora rezultāts: Iris-versicolor; reālā suga: Iris-versicolor, pareizi\n",
      "9. datu rindiņā klasifikatora rezultāts: Iris-virginica; reālā suga: Iris-virginica, pareizi\n",
      "10. datu rindiņā klasifikatora rezultāts: Iris-virginica; reālā suga: Iris-virginica, pareizi\n",
      "11. datu rindiņā klasifikatora rezultāts: Iris-virginica; reālā suga: Iris-virginica, pareizi\n",
      "12. datu rindiņā klasifikatora rezultāts: Iris-virginica; reālā suga: Iris-virginica, pareizi\n",
      "Precizitāte: 100% (12/12)\n"
     ]
    }
   ],
   "source": [
    "test()"
   ]
  }
 ],
 "metadata": {
  "kaggle": {
   "accelerator": "none",
   "dataSources": [],
   "dockerImageVersionId": 30918,
   "isGpuEnabled": false,
   "isInternetEnabled": true,
   "language": "python",
   "sourceType": "notebook"
  },
  "kernelspec": {
   "display_name": "Python 3",
   "language": "python",
   "name": "python3"
  },
  "language_info": {
   "codemirror_mode": {
    "name": "ipython",
    "version": 3
   },
   "file_extension": ".py",
   "mimetype": "text/x-python",
   "name": "python",
   "nbconvert_exporter": "python",
   "pygments_lexer": "ipython3",
   "version": "3.10.12"
  },
  "papermill": {
   "default_parameters": {},
   "duration": 10.16217,
   "end_time": "2025-03-04T21:48:13.102515",
   "environment_variables": {},
   "exception": null,
   "input_path": "__notebook__.ipynb",
   "output_path": "__notebook__.ipynb",
   "parameters": {},
   "start_time": "2025-03-04T21:48:02.940345",
   "version": "2.6.0"
  }
 },
 "nbformat": 4,
 "nbformat_minor": 5
}
